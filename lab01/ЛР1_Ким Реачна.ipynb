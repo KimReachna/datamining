{
 "cells": [
  {
   "cell_type": "markdown",
   "id": "b1f242c8",
   "metadata": {
    "id": "bkvu6piHt3ra"
   },
   "source": [
    "### РОССИЙСКИЙ УНИВЕРСИТЕТ ДРУЖБЫ НАРОДОВ\n",
    "\n",
    "#### Факультет физико-математических и естественных наук  \n",
    "#### Кафедра информационных технологий "
   ]
  },
  {
   "cell_type": "markdown",
   "id": "7fd01915",
   "metadata": {
    "id": "djXIWnpjt3rf"
   },
   "source": [
    "## ОТЧЕТ ПО ЛАБОРАТОРНОЙ РАБОТЕ № 1\n",
    "\n",
    "\n",
    "### Дисциплина: ИАД"
   ]
  },
  {
   "cell_type": "markdown",
   "id": "4eca6263",
   "metadata": {
    "id": "fo_ynhTst3rg"
   },
   "source": [
    "##### Студент: Ким Реачна\n",
    "##### Группа: НПИбд-01-20"
   ]
  },
  {
   "cell_type": "markdown",
   "id": "cd9feaf4",
   "metadata": {
    "id": "TbvGIymht3rh"
   },
   "source": [
    "## Москва 2023\n",
    "***"
   ]
  },
  {
   "cell_type": "markdown",
   "id": "95e2a8ef",
   "metadata": {
    "id": "avs03Eqmt3rh"
   },
   "source": [
    "### Вариант № 13"
   ]
  },
  {
   "cell_type": "markdown",
   "id": "6089eadf",
   "metadata": {},
   "source": [
    "1. Используя функционал библиотеки Pandas, cчитайте заданный набор данных из репозитария UCI. Набор данных задан ссылкой на страницу набора данных и названием файла с данными, который доступен из папки с данными (data folder)."
   ]
  },
  {
   "cell_type": "code",
   "execution_count": 56,
   "id": "7bfd4f1c",
   "metadata": {},
   "outputs": [],
   "source": [
    "import pandas as pd\n",
    "import numpy as np\n",
    "from sklearn.feature_selection import SelectKBest\n",
    "from sklearn.feature_selection import chi2, f_classif\n",
    "import seaborn as sns\n",
    "import matplotlib.pyplot as plt\n",
    "import warnings\n",
    "warnings.filterwarnings(\"ignore\")\n",
    "data1 = pd.read_csv(\"horse-colic.data\", header=None, sep=' ',on_bad_lines='skip')"
   ]
  },
  {
   "cell_type": "code",
   "execution_count": 57,
   "id": "5b6979ba",
   "metadata": {},
   "outputs": [
    {
     "data": {
      "text/html": [
       "<div>\n",
       "<style scoped>\n",
       "    .dataframe tbody tr th:only-of-type {\n",
       "        vertical-align: middle;\n",
       "    }\n",
       "\n",
       "    .dataframe tbody tr th {\n",
       "        vertical-align: top;\n",
       "    }\n",
       "\n",
       "    .dataframe thead th {\n",
       "        text-align: right;\n",
       "    }\n",
       "</style>\n",
       "<table border=\"1\" class=\"dataframe\">\n",
       "  <thead>\n",
       "    <tr style=\"text-align: right;\">\n",
       "      <th></th>\n",
       "      <th>0</th>\n",
       "      <th>1</th>\n",
       "      <th>2</th>\n",
       "      <th>3</th>\n",
       "      <th>4</th>\n",
       "      <th>5</th>\n",
       "      <th>6</th>\n",
       "      <th>7</th>\n",
       "      <th>8</th>\n",
       "      <th>9</th>\n",
       "      <th>...</th>\n",
       "      <th>18</th>\n",
       "      <th>19</th>\n",
       "      <th>20</th>\n",
       "      <th>21</th>\n",
       "      <th>22</th>\n",
       "      <th>23</th>\n",
       "      <th>24</th>\n",
       "      <th>25</th>\n",
       "      <th>26</th>\n",
       "      <th>27</th>\n",
       "    </tr>\n",
       "  </thead>\n",
       "  <tbody>\n",
       "    <tr>\n",
       "      <th>0</th>\n",
       "      <td>2</td>\n",
       "      <td>1</td>\n",
       "      <td>530101</td>\n",
       "      <td>38.50</td>\n",
       "      <td>66</td>\n",
       "      <td>28</td>\n",
       "      <td>3</td>\n",
       "      <td>3</td>\n",
       "      <td>?</td>\n",
       "      <td>2</td>\n",
       "      <td>...</td>\n",
       "      <td>45.00</td>\n",
       "      <td>8.40</td>\n",
       "      <td>?</td>\n",
       "      <td>?</td>\n",
       "      <td>2</td>\n",
       "      <td>2</td>\n",
       "      <td>11300</td>\n",
       "      <td>0</td>\n",
       "      <td>0</td>\n",
       "      <td>2</td>\n",
       "    </tr>\n",
       "    <tr>\n",
       "      <th>1</th>\n",
       "      <td>1</td>\n",
       "      <td>1</td>\n",
       "      <td>532349</td>\n",
       "      <td>38.4</td>\n",
       "      <td>44</td>\n",
       "      <td>24</td>\n",
       "      <td>3</td>\n",
       "      <td>?</td>\n",
       "      <td>4</td>\n",
       "      <td>?</td>\n",
       "      <td>...</td>\n",
       "      <td>50</td>\n",
       "      <td>77</td>\n",
       "      <td>?</td>\n",
       "      <td>?</td>\n",
       "      <td>1</td>\n",
       "      <td>1</td>\n",
       "      <td>3205</td>\n",
       "      <td>0</td>\n",
       "      <td>0</td>\n",
       "      <td>2</td>\n",
       "    </tr>\n",
       "    <tr>\n",
       "      <th>2</th>\n",
       "      <td>2</td>\n",
       "      <td>1</td>\n",
       "      <td>5275212</td>\n",
       "      <td>37.80</td>\n",
       "      <td>82</td>\n",
       "      <td>12</td>\n",
       "      <td>3</td>\n",
       "      <td>1</td>\n",
       "      <td>1</td>\n",
       "      <td>2</td>\n",
       "      <td>...</td>\n",
       "      <td>50.00</td>\n",
       "      <td>7.00</td>\n",
       "      <td>?</td>\n",
       "      <td>?</td>\n",
       "      <td>3</td>\n",
       "      <td>1</td>\n",
       "      <td>2205</td>\n",
       "      <td>0</td>\n",
       "      <td>0</td>\n",
       "      <td>2</td>\n",
       "    </tr>\n",
       "    <tr>\n",
       "      <th>3</th>\n",
       "      <td>2</td>\n",
       "      <td>9</td>\n",
       "      <td>5305129</td>\n",
       "      <td>39.50</td>\n",
       "      <td>84</td>\n",
       "      <td>30</td>\n",
       "      <td>?</td>\n",
       "      <td>?</td>\n",
       "      <td>?</td>\n",
       "      <td>1</td>\n",
       "      <td>...</td>\n",
       "      <td>28.00</td>\n",
       "      <td>5.00</td>\n",
       "      <td>?</td>\n",
       "      <td>?</td>\n",
       "      <td>1</td>\n",
       "      <td>2</td>\n",
       "      <td>0</td>\n",
       "      <td>0</td>\n",
       "      <td>0</td>\n",
       "      <td>2</td>\n",
       "    </tr>\n",
       "    <tr>\n",
       "      <th>4</th>\n",
       "      <td>1</td>\n",
       "      <td>1</td>\n",
       "      <td>529428</td>\n",
       "      <td>?</td>\n",
       "      <td>?</td>\n",
       "      <td>?</td>\n",
       "      <td>?</td>\n",
       "      <td>?</td>\n",
       "      <td>?</td>\n",
       "      <td>?</td>\n",
       "      <td>...</td>\n",
       "      <td>?</td>\n",
       "      <td>?</td>\n",
       "      <td>?</td>\n",
       "      <td>?</td>\n",
       "      <td>1</td>\n",
       "      <td>1</td>\n",
       "      <td>2124</td>\n",
       "      <td>0</td>\n",
       "      <td>0</td>\n",
       "      <td>2</td>\n",
       "    </tr>\n",
       "    <tr>\n",
       "      <th>5</th>\n",
       "      <td>1</td>\n",
       "      <td>1</td>\n",
       "      <td>529126</td>\n",
       "      <td>38.00</td>\n",
       "      <td>50</td>\n",
       "      <td>36</td>\n",
       "      <td>?</td>\n",
       "      <td>1</td>\n",
       "      <td>1</td>\n",
       "      <td>1</td>\n",
       "      <td>...</td>\n",
       "      <td>39.00</td>\n",
       "      <td>6.60</td>\n",
       "      <td>1</td>\n",
       "      <td>5.30</td>\n",
       "      <td>1</td>\n",
       "      <td>1</td>\n",
       "      <td>8400</td>\n",
       "      <td>0</td>\n",
       "      <td>0</td>\n",
       "      <td>1</td>\n",
       "    </tr>\n",
       "    <tr>\n",
       "      <th>6</th>\n",
       "      <td>2</td>\n",
       "      <td>1</td>\n",
       "      <td>535054</td>\n",
       "      <td>38.6</td>\n",
       "      <td>45</td>\n",
       "      <td>16</td>\n",
       "      <td>2</td>\n",
       "      <td>1</td>\n",
       "      <td>2</td>\n",
       "      <td>1</td>\n",
       "      <td>...</td>\n",
       "      <td>43</td>\n",
       "      <td>58</td>\n",
       "      <td>?</td>\n",
       "      <td>?</td>\n",
       "      <td>1</td>\n",
       "      <td>2</td>\n",
       "      <td>0</td>\n",
       "      <td>0</td>\n",
       "      <td>0</td>\n",
       "      <td>2</td>\n",
       "    </tr>\n",
       "    <tr>\n",
       "      <th>7</th>\n",
       "      <td>1</td>\n",
       "      <td>1</td>\n",
       "      <td>528890</td>\n",
       "      <td>38.90</td>\n",
       "      <td>80</td>\n",
       "      <td>44</td>\n",
       "      <td>3</td>\n",
       "      <td>3</td>\n",
       "      <td>3</td>\n",
       "      <td>1</td>\n",
       "      <td>...</td>\n",
       "      <td>54.00</td>\n",
       "      <td>6.50</td>\n",
       "      <td>3</td>\n",
       "      <td>?</td>\n",
       "      <td>2</td>\n",
       "      <td>1</td>\n",
       "      <td>7111</td>\n",
       "      <td>0</td>\n",
       "      <td>0</td>\n",
       "      <td>2</td>\n",
       "    </tr>\n",
       "    <tr>\n",
       "      <th>8</th>\n",
       "      <td>1</td>\n",
       "      <td>1</td>\n",
       "      <td>530034</td>\n",
       "      <td>37.00</td>\n",
       "      <td>66</td>\n",
       "      <td>20</td>\n",
       "      <td>1</td>\n",
       "      <td>3</td>\n",
       "      <td>2</td>\n",
       "      <td>1</td>\n",
       "      <td>...</td>\n",
       "      <td>35.00</td>\n",
       "      <td>6.90</td>\n",
       "      <td>2</td>\n",
       "      <td>?</td>\n",
       "      <td>2</td>\n",
       "      <td>1</td>\n",
       "      <td>31110</td>\n",
       "      <td>0</td>\n",
       "      <td>0</td>\n",
       "      <td>2</td>\n",
       "    </tr>\n",
       "    <tr>\n",
       "      <th>9</th>\n",
       "      <td>1</td>\n",
       "      <td>1</td>\n",
       "      <td>534004</td>\n",
       "      <td>?</td>\n",
       "      <td>78</td>\n",
       "      <td>24</td>\n",
       "      <td>3</td>\n",
       "      <td>3</td>\n",
       "      <td>3</td>\n",
       "      <td>1</td>\n",
       "      <td>...</td>\n",
       "      <td>43</td>\n",
       "      <td>62</td>\n",
       "      <td>?</td>\n",
       "      <td>2</td>\n",
       "      <td>3</td>\n",
       "      <td>2</td>\n",
       "      <td>2209</td>\n",
       "      <td>0</td>\n",
       "      <td>0</td>\n",
       "      <td>2</td>\n",
       "    </tr>\n",
       "    <tr>\n",
       "      <th>10</th>\n",
       "      <td>2</td>\n",
       "      <td>1</td>\n",
       "      <td>533902</td>\n",
       "      <td>38.5</td>\n",
       "      <td>40</td>\n",
       "      <td>16</td>\n",
       "      <td>1</td>\n",
       "      <td>1</td>\n",
       "      <td>1</td>\n",
       "      <td>1</td>\n",
       "      <td>...</td>\n",
       "      <td>37</td>\n",
       "      <td>67</td>\n",
       "      <td>?</td>\n",
       "      <td>?</td>\n",
       "      <td>1</td>\n",
       "      <td>2</td>\n",
       "      <td>0</td>\n",
       "      <td>0</td>\n",
       "      <td>0</td>\n",
       "      <td>2</td>\n",
       "    </tr>\n",
       "    <tr>\n",
       "      <th>11</th>\n",
       "      <td>1</td>\n",
       "      <td>1</td>\n",
       "      <td>533886</td>\n",
       "      <td>?</td>\n",
       "      <td>120</td>\n",
       "      <td>70</td>\n",
       "      <td>4</td>\n",
       "      <td>?</td>\n",
       "      <td>4</td>\n",
       "      <td>2</td>\n",
       "      <td>...</td>\n",
       "      <td>55</td>\n",
       "      <td>65</td>\n",
       "      <td>?</td>\n",
       "      <td>?</td>\n",
       "      <td>3</td>\n",
       "      <td>2</td>\n",
       "      <td>3205</td>\n",
       "      <td>0</td>\n",
       "      <td>0</td>\n",
       "      <td>2</td>\n",
       "    </tr>\n",
       "    <tr>\n",
       "      <th>12</th>\n",
       "      <td>2</td>\n",
       "      <td>1</td>\n",
       "      <td>527702</td>\n",
       "      <td>37.20</td>\n",
       "      <td>72</td>\n",
       "      <td>24</td>\n",
       "      <td>3</td>\n",
       "      <td>2</td>\n",
       "      <td>4</td>\n",
       "      <td>2</td>\n",
       "      <td>...</td>\n",
       "      <td>44.00</td>\n",
       "      <td>?</td>\n",
       "      <td>3</td>\n",
       "      <td>3.30</td>\n",
       "      <td>3</td>\n",
       "      <td>1</td>\n",
       "      <td>2208</td>\n",
       "      <td>0</td>\n",
       "      <td>0</td>\n",
       "      <td>1</td>\n",
       "    </tr>\n",
       "    <tr>\n",
       "      <th>13</th>\n",
       "      <td>1</td>\n",
       "      <td>1</td>\n",
       "      <td>529386</td>\n",
       "      <td>37.50</td>\n",
       "      <td>72</td>\n",
       "      <td>30</td>\n",
       "      <td>4</td>\n",
       "      <td>3</td>\n",
       "      <td>4</td>\n",
       "      <td>1</td>\n",
       "      <td>...</td>\n",
       "      <td>60.00</td>\n",
       "      <td>6.80</td>\n",
       "      <td>?</td>\n",
       "      <td>?</td>\n",
       "      <td>2</td>\n",
       "      <td>1</td>\n",
       "      <td>3205</td>\n",
       "      <td>0</td>\n",
       "      <td>0</td>\n",
       "      <td>2</td>\n",
       "    </tr>\n",
       "    <tr>\n",
       "      <th>14</th>\n",
       "      <td>1</td>\n",
       "      <td>1</td>\n",
       "      <td>530612</td>\n",
       "      <td>36.50</td>\n",
       "      <td>100</td>\n",
       "      <td>24</td>\n",
       "      <td>3</td>\n",
       "      <td>3</td>\n",
       "      <td>3</td>\n",
       "      <td>1</td>\n",
       "      <td>...</td>\n",
       "      <td>50.00</td>\n",
       "      <td>6.00</td>\n",
       "      <td>3</td>\n",
       "      <td>3.40</td>\n",
       "      <td>1</td>\n",
       "      <td>1</td>\n",
       "      <td>2208</td>\n",
       "      <td>0</td>\n",
       "      <td>0</td>\n",
       "      <td>1</td>\n",
       "    </tr>\n",
       "  </tbody>\n",
       "</table>\n",
       "<p>15 rows × 28 columns</p>\n",
       "</div>"
      ],
      "text/plain": [
       "    0   1        2      3    4   5  6  7  8  9   ...     18    19 20    21 22  \\\n",
       "0    2   1   530101  38.50   66  28  3  3  ?  2  ...  45.00  8.40  ?     ?  2   \n",
       "1    1   1   532349   38.4   44  24  3  ?  4  ?  ...     50    77  ?     ?  1   \n",
       "2    2   1  5275212  37.80   82  12  3  1  1  2  ...  50.00  7.00  ?     ?  3   \n",
       "3    2   9  5305129  39.50   84  30  ?  ?  ?  1  ...  28.00  5.00  ?     ?  1   \n",
       "4    1   1   529428      ?    ?   ?  ?  ?  ?  ?  ...      ?     ?  ?     ?  1   \n",
       "5    1   1   529126  38.00   50  36  ?  1  1  1  ...  39.00  6.60  1  5.30  1   \n",
       "6    2   1   535054   38.6   45  16  2  1  2  1  ...     43    58  ?     ?  1   \n",
       "7    1   1   528890  38.90   80  44  3  3  3  1  ...  54.00  6.50  3     ?  2   \n",
       "8    1   1   530034  37.00   66  20  1  3  2  1  ...  35.00  6.90  2     ?  2   \n",
       "9    1   1   534004      ?   78  24  3  3  3  1  ...     43    62  ?     2  3   \n",
       "10   2   1   533902   38.5   40  16  1  1  1  1  ...     37    67  ?     ?  1   \n",
       "11   1   1   533886      ?  120  70  4  ?  4  2  ...     55    65  ?     ?  3   \n",
       "12   2   1   527702  37.20   72  24  3  2  4  2  ...  44.00     ?  3  3.30  3   \n",
       "13   1   1   529386  37.50   72  30  4  3  4  1  ...  60.00  6.80  ?     ?  2   \n",
       "14   1   1   530612  36.50  100  24  3  3  3  1  ...  50.00  6.00  3  3.40  1   \n",
       "\n",
       "   23     24 25 26 27  \n",
       "0   2  11300  0  0  2  \n",
       "1   1   3205  0  0  2  \n",
       "2   1   2205  0  0  2  \n",
       "3   2      0  0  0  2  \n",
       "4   1   2124  0  0  2  \n",
       "5   1   8400  0  0  1  \n",
       "6   2      0  0  0  2  \n",
       "7   1   7111  0  0  2  \n",
       "8   1  31110  0  0  2  \n",
       "9   2   2209  0  0  2  \n",
       "10  2      0  0  0  2  \n",
       "11  2   3205  0  0  2  \n",
       "12  1   2208  0  0  1  \n",
       "13  1   3205  0  0  2  \n",
       "14  1   2208  0  0  1  \n",
       "\n",
       "[15 rows x 28 columns]"
      ]
     },
     "execution_count": 57,
     "metadata": {},
     "output_type": "execute_result"
    }
   ],
   "source": [
    "data1"
   ]
  },
  {
   "cell_type": "markdown",
   "id": "36b35c15",
   "metadata": {},
   "source": [
    "2. Проведите исследование набора данных, выявляя числовые признаки. Если какие-то из числовых признаков были неправильно классифицированы, то преобразуйте их в числовые. Если в наборе для числовых признаков присутствуют пропущенные значения ('?'), то заполните их медианными значениями признаков."
   ]
  },
  {
   "cell_type": "code",
   "execution_count": 58,
   "id": "4841f742",
   "metadata": {},
   "outputs": [],
   "source": [
    "data1 = data1.replace(\"?\",np.nan)"
   ]
  },
  {
   "cell_type": "code",
   "execution_count": 59,
   "id": "1a35a2ab",
   "metadata": {},
   "outputs": [
    {
     "name": "stdout",
     "output_type": "stream",
     "text": [
      "<class 'pandas.core.frame.DataFrame'>\n",
      "RangeIndex: 15 entries, 0 to 14\n",
      "Data columns (total 28 columns):\n",
      " #   Column  Non-Null Count  Dtype \n",
      "---  ------  --------------  ----- \n",
      " 0   0       15 non-null     int64 \n",
      " 1   1       15 non-null     int64 \n",
      " 2   2       15 non-null     int64 \n",
      " 3   3       12 non-null     object\n",
      " 4   4       14 non-null     object\n",
      " 5   5       14 non-null     object\n",
      " 6   6       12 non-null     object\n",
      " 7   7       11 non-null     object\n",
      " 8   8       12 non-null     object\n",
      " 9   9       13 non-null     object\n",
      " 10  10      12 non-null     object\n",
      " 11  11      12 non-null     object\n",
      " 12  12      10 non-null     object\n",
      " 13  13      8 non-null      object\n",
      " 14  14      7 non-null      object\n",
      " 15  15      1 non-null      object\n",
      " 16  16      10 non-null     object\n",
      " 17  17      11 non-null     object\n",
      " 18  18      14 non-null     object\n",
      " 19  19      13 non-null     object\n",
      " 20  20      5 non-null      object\n",
      " 21  21      4 non-null      object\n",
      " 22  22      15 non-null     int64 \n",
      " 23  23      15 non-null     int64 \n",
      " 24  24      15 non-null     int64 \n",
      " 25  25      15 non-null     int64 \n",
      " 26  26      15 non-null     int64 \n",
      " 27  27      15 non-null     int64 \n",
      "dtypes: int64(9), object(19)\n",
      "memory usage: 3.4+ KB\n"
     ]
    }
   ],
   "source": [
    "data1.info()"
   ]
  },
  {
   "cell_type": "code",
   "execution_count": 60,
   "id": "d05be997",
   "metadata": {},
   "outputs": [],
   "source": [
    "data1 = data1.astype(float)"
   ]
  },
  {
   "cell_type": "code",
   "execution_count": 61,
   "id": "fca3d6b7",
   "metadata": {},
   "outputs": [
    {
     "name": "stdout",
     "output_type": "stream",
     "text": [
      "<class 'pandas.core.frame.DataFrame'>\n",
      "RangeIndex: 15 entries, 0 to 14\n",
      "Data columns (total 28 columns):\n",
      " #   Column  Non-Null Count  Dtype  \n",
      "---  ------  --------------  -----  \n",
      " 0   0       15 non-null     float64\n",
      " 1   1       15 non-null     float64\n",
      " 2   2       15 non-null     float64\n",
      " 3   3       12 non-null     float64\n",
      " 4   4       14 non-null     float64\n",
      " 5   5       14 non-null     float64\n",
      " 6   6       12 non-null     float64\n",
      " 7   7       11 non-null     float64\n",
      " 8   8       12 non-null     float64\n",
      " 9   9       13 non-null     float64\n",
      " 10  10      12 non-null     float64\n",
      " 11  11      12 non-null     float64\n",
      " 12  12      10 non-null     float64\n",
      " 13  13      8 non-null      float64\n",
      " 14  14      7 non-null      float64\n",
      " 15  15      1 non-null      float64\n",
      " 16  16      10 non-null     float64\n",
      " 17  17      11 non-null     float64\n",
      " 18  18      14 non-null     float64\n",
      " 19  19      13 non-null     float64\n",
      " 20  20      5 non-null      float64\n",
      " 21  21      4 non-null      float64\n",
      " 22  22      15 non-null     float64\n",
      " 23  23      15 non-null     float64\n",
      " 24  24      15 non-null     float64\n",
      " 25  25      15 non-null     float64\n",
      " 26  26      15 non-null     float64\n",
      " 27  27      15 non-null     float64\n",
      "dtypes: float64(28)\n",
      "memory usage: 3.4 KB\n"
     ]
    }
   ],
   "source": [
    "data1.info()"
   ]
  },
  {
   "cell_type": "code",
   "execution_count": 62,
   "id": "4ea3eac6",
   "metadata": {},
   "outputs": [
    {
     "data": {
      "text/plain": [
       "0      0\n",
       "1      0\n",
       "2      0\n",
       "3      3\n",
       "4      1\n",
       "5      1\n",
       "6      3\n",
       "7      4\n",
       "8      3\n",
       "9      2\n",
       "10     3\n",
       "11     3\n",
       "12     5\n",
       "13     7\n",
       "14     8\n",
       "15    14\n",
       "16     5\n",
       "17     4\n",
       "18     1\n",
       "19     2\n",
       "20    10\n",
       "21    11\n",
       "22     0\n",
       "23     0\n",
       "24     0\n",
       "25     0\n",
       "26     0\n",
       "27     0\n",
       "dtype: int64"
      ]
     },
     "execution_count": 62,
     "metadata": {},
     "output_type": "execute_result"
    }
   ],
   "source": [
    "data1.isna().sum()"
   ]
  },
  {
   "cell_type": "code",
   "execution_count": 63,
   "id": "4833b2d8",
   "metadata": {},
   "outputs": [],
   "source": [
    "data1 = data1.fillna(data1.median())"
   ]
  },
  {
   "cell_type": "markdown",
   "id": "b98e3d8e",
   "metadata": {},
   "source": [
    "3. Определите столбец, содержащий метку класса (отклик). Если столбец, содержащий метку класса (отклик), принимает более 10 различных значений, то выполните дискретизацию этого столбца, перейдя к 4-5 диапазонам значений."
   ]
  },
  {
   "cell_type": "code",
   "execution_count": 64,
   "id": "bfc2209d",
   "metadata": {},
   "outputs": [],
   "source": [
    "target = data1[0]\n",
    "data1 = data1.drop([0],axis=1)"
   ]
  },
  {
   "cell_type": "code",
   "execution_count": 65,
   "id": "d82063d8",
   "metadata": {},
   "outputs": [
    {
     "data": {
      "text/plain": [
       "array([2., 1.])"
      ]
     },
     "execution_count": 65,
     "metadata": {},
     "output_type": "execute_result"
    }
   ],
   "source": [
    "target.unique()"
   ]
  },
  {
   "cell_type": "markdown",
   "id": "54828938",
   "metadata": {},
   "source": [
    "4. При помощи класса SelectKBest библиотеки scikit-learn найдите в наборе два признака, имеющих наиболее выраженную взаимосвязь с (дискретизированным) столбцом с меткой класса (откликом). Используйте для параметра score_func значения chi2 или f_classif."
   ]
  },
  {
   "cell_type": "code",
   "execution_count": 66,
   "id": "d2cb05a2",
   "metadata": {},
   "outputs": [],
   "source": [
    "from sklearn.preprocessing import LabelEncoder\n",
    "target = pd.Series(LabelEncoder().fit_transform(target))"
   ]
  },
  {
   "cell_type": "code",
   "execution_count": 67,
   "id": "39cb1a4c",
   "metadata": {},
   "outputs": [
    {
     "name": "stdout",
     "output_type": "stream",
     "text": [
      "\n",
      "Оценки признаков:\n",
      " [4.17391304e+00 7.77826292e+06 2.10887332e-02 6.03937130e+00\n",
      " 1.80868878e+01 3.21428571e-01 1.33796296e+00 5.85365854e-01\n",
      " 4.29824561e-01 7.57575758e-03 6.40151515e-01 3.87596899e-03\n",
      " 0.00000000e+00 1.48148148e-01 0.00000000e+00 3.40909091e-02\n",
      " 5.73099415e-01 3.54243542e+00 3.88759886e-01 1.42857143e-01\n",
      " 6.89118322e-03 6.17283951e-03 5.07936508e-01 1.30566786e+04\n",
      "            nan            nan 6.17283951e-03]\n",
      "\n",
      "Отобранные признаки:\n",
      "           2        24\n",
      "0   530101.0  11300.0\n",
      "1   532349.0   3205.0\n",
      "2  5275212.0   2205.0\n",
      "3  5305129.0      0.0\n",
      "4   529428.0   2124.0\n"
     ]
    }
   ],
   "source": [
    "data = data1.select_dtypes(exclude=['object'])\n",
    "# отбор признаков при помощи одномерных статистических тестов \n",
    "from sklearn.feature_selection import SelectKBest, chi2\n",
    "\n",
    "X = data \n",
    "Y = target   \n",
    "\n",
    "# отбор признаков\n",
    "test = SelectKBest(score_func=chi2, k=2)\n",
    "fit = test.fit(X, Y)\n",
    "\n",
    "# оценки признаков\n",
    "print(\"\\nОценки признаков:\\n\",fit.scores_)\n",
    "\n",
    "cols = test.get_support(indices=True)\n",
    "data = data.iloc[:,cols]\n",
    "print(\"\\nОтобранные признаки:\\n\",data.head())"
   ]
  },
  {
   "cell_type": "code",
   "execution_count": 68,
   "id": "8ca13488",
   "metadata": {},
   "outputs": [],
   "source": [
    "a,b=data.columns"
   ]
  },
  {
   "cell_type": "markdown",
   "id": "7b70fbd0",
   "metadata": {},
   "source": [
    "5. Для найденных признаков и (дискретизированного) столбца с меткой класса (откликом) вычислите матрицу корреляций и визуализируйте ее в виде тепловой карты (heat map)."
   ]
  },
  {
   "cell_type": "code",
   "execution_count": 69,
   "id": "18548b80",
   "metadata": {},
   "outputs": [
    {
     "data": {
      "image/png": "[encoded data removed]",
      "text/plain": [
       "<Figure size 1000x800 with 2 Axes>"
      ]
     },
     "metadata": {},
     "output_type": "display_data"
    }
   ],
   "source": [
    "correlation_matrix = (pd.concat([data,target],axis=1)).corr()\n",
    "\n",
    "plt.figure(figsize=(10, 8))\n",
    "sns.heatmap(correlation_matrix, annot=True, cmap='coolwarm')\n",
    "plt.title(\"Correlation Heatmap\")\n",
    "plt.show()"
   ]
  },
  {
   "cell_type": "markdown",
   "id": "37924ede",
   "metadata": {},
   "source": [
    "6. Визуализируйте набор данных в виде диаграммы рассеяния на плоскости с координатами, соответствующими найденным признакам, отображая точки различных классов разными цветами. Подпишите оси и рисунок, создайте легенду набора данных."
   ]
  },
  {
   "cell_type": "code",
   "execution_count": 70,
   "id": "3337c133",
   "metadata": {},
   "outputs": [
    {
     "data": {
      "image/png": "[encoded data removed]",
      "text/plain": [
       "<Figure size 1000x600 with 1 Axes>"
      ]
     },
     "metadata": {},
     "output_type": "display_data"
    }
   ],
   "source": [
    "import seaborn as sns\n",
    "import matplotlib.pyplot as plt\n",
    "\n",
    "plt.figure(figsize=(10, 6))\n",
    "plt.xlabel('Feature1')\n",
    "plt.ylabel('Feature2')\n",
    "plt.title('Scatter Plot of Features')\n",
    "\n",
    "sns.scatterplot(data=data, x=data[2], y=data[24], hue=target, palette='viridis')\n",
    "\n",
    "plt.legend(title='Class')\n",
    "\n",
    "plt.show()"
   ]
  },
  {
   "cell_type": "markdown",
   "id": "4bb04376",
   "metadata": {},
   "source": [
    "7. Оставляя в наборе данных только числовые признаки, найдите и выведите на экран размерность метода главных компонент (параметр n_components), для которой доля объясняемой дисперсии будет не менее 97.5%."
   ]
  },
  {
   "cell_type": "code",
   "execution_count": 71,
   "id": "daca71d2",
   "metadata": {},
   "outputs": [
    {
     "name": "stdout",
     "output_type": "stream",
     "text": [
      "r = 1 \tДисперсия = 99.99790826857856 %\n",
      "r = 2 \tДисперсия = 99.99999995154984 %\n",
      "r = 3 \tДисперсия = 99.9999999773843 %\n",
      "r = 4 \tДисперсия = 99.99999999534211 %\n"
     ]
    }
   ],
   "source": [
    "from sklearn.decomposition import PCA \n",
    "\n",
    "data = data1.select_dtypes(include=['number'])\n",
    "\n",
    "for r in range(1,5):\n",
    "  pca = PCA( n_components = r )\n",
    "  pca.fit(data)\n",
    "  print( \"r =\",r,\"\\tДисперсия =\",\n",
    "        sum(pca.explained_variance_ratio_)*100,\"%\" )"
   ]
  },
  {
   "cell_type": "code",
   "execution_count": 72,
   "id": "9e4366c1",
   "metadata": {},
   "outputs": [
    {
     "name": "stdout",
     "output_type": "stream",
     "text": [
      "Количество компонент для объяснения 97.5% дисперсии: 1\n"
     ]
    }
   ],
   "source": [
    "cumulative_variance = pca.explained_variance_ratio_.cumsum()\n",
    "n_components = len(cumulative_variance[cumulative_variance <= 0.975])+1\n",
    "\n",
    "print(f\"Количество компонент для объяснения 97.5% дисперсии: {n_components}\")"
   ]
  },
  {
   "cell_type": "markdown",
   "id": "fe601a2a",
   "metadata": {},
   "source": [
    "8. Пользуясь методом главных компонент (PCA), снизьте размерность набора данных до двух признаков и изобразите полученный набор данных в виде диаграммы рассеяния на плоскости, образованной двумя полученными признаками, отображая точки различных классов разными цветами. Подпишите оси и рисунок, создайте легенду набора данных"
   ]
  },
  {
   "cell_type": "code",
   "execution_count": 73,
   "id": "8f687809",
   "metadata": {},
   "outputs": [
    {
     "data": {
      "text/html": [
       "<div>\n",
       "<style scoped>\n",
       "    .dataframe tbody tr th:only-of-type {\n",
       "        vertical-align: middle;\n",
       "    }\n",
       "\n",
       "    .dataframe tbody tr th {\n",
       "        vertical-align: top;\n",
       "    }\n",
       "\n",
       "    .dataframe thead th {\n",
       "        text-align: right;\n",
       "    }\n",
       "</style>\n",
       "<table border=\"1\" class=\"dataframe\">\n",
       "  <thead>\n",
       "    <tr style=\"text-align: right;\">\n",
       "      <th></th>\n",
       "      <th>0</th>\n",
       "      <th>1</th>\n",
       "    </tr>\n",
       "  </thead>\n",
       "  <tbody>\n",
       "    <tr>\n",
       "      <th>0</th>\n",
       "      <td>-6.355591e+05</td>\n",
       "      <td>5429.161890</td>\n",
       "    </tr>\n",
       "    <tr>\n",
       "      <th>1</th>\n",
       "      <td>-6.333030e+05</td>\n",
       "      <td>-2663.666175</td>\n",
       "    </tr>\n",
       "    <tr>\n",
       "      <th>2</th>\n",
       "      <td>4.109559e+06</td>\n",
       "      <td>1098.961263</td>\n",
       "    </tr>\n",
       "    <tr>\n",
       "      <th>3</th>\n",
       "      <td>4.139478e+06</td>\n",
       "      <td>-1075.986680</td>\n",
       "    </tr>\n",
       "    <tr>\n",
       "      <th>4</th>\n",
       "      <td>-6.362229e+05</td>\n",
       "      <td>-3747.497139</td>\n",
       "    </tr>\n",
       "    <tr>\n",
       "      <th>5</th>\n",
       "      <td>-6.365312e+05</td>\n",
       "      <td>2528.192265</td>\n",
       "    </tr>\n",
       "    <tr>\n",
       "      <th>6</th>\n",
       "      <td>-6.305948e+05</td>\n",
       "      <td>-5865.914702</td>\n",
       "    </tr>\n",
       "    <tr>\n",
       "      <th>7</th>\n",
       "      <td>-6.367659e+05</td>\n",
       "      <td>1238.949299</td>\n",
       "    </tr>\n",
       "    <tr>\n",
       "      <th>8</th>\n",
       "      <td>-6.356460e+05</td>\n",
       "      <td>25239.069179</td>\n",
       "    </tr>\n",
       "    <tr>\n",
       "      <th>9</th>\n",
       "      <td>-6.316470e+05</td>\n",
       "      <td>-3657.981561</td>\n",
       "    </tr>\n",
       "    <tr>\n",
       "      <th>10</th>\n",
       "      <td>-6.317468e+05</td>\n",
       "      <td>-5867.082134</td>\n",
       "    </tr>\n",
       "    <tr>\n",
       "      <th>11</th>\n",
       "      <td>-6.317660e+05</td>\n",
       "      <td>-2662.118005</td>\n",
       "    </tr>\n",
       "    <tr>\n",
       "      <th>12</th>\n",
       "      <td>-6.379490e+05</td>\n",
       "      <td>-3665.230355</td>\n",
       "    </tr>\n",
       "    <tr>\n",
       "      <th>13</th>\n",
       "      <td>-6.362660e+05</td>\n",
       "      <td>-2666.546246</td>\n",
       "    </tr>\n",
       "    <tr>\n",
       "      <th>14</th>\n",
       "      <td>-6.350390e+05</td>\n",
       "      <td>-3662.310899</td>\n",
       "    </tr>\n",
       "  </tbody>\n",
       "</table>\n",
       "</div>"
      ],
      "text/plain": [
       "               0             1\n",
       "0  -6.355591e+05   5429.161890\n",
       "1  -6.333030e+05  -2663.666175\n",
       "2   4.109559e+06   1098.961263\n",
       "3   4.139478e+06  -1075.986680\n",
       "4  -6.362229e+05  -3747.497139\n",
       "5  -6.365312e+05   2528.192265\n",
       "6  -6.305948e+05  -5865.914702\n",
       "7  -6.367659e+05   1238.949299\n",
       "8  -6.356460e+05  25239.069179\n",
       "9  -6.316470e+05  -3657.981561\n",
       "10 -6.317468e+05  -5867.082134\n",
       "11 -6.317660e+05  -2662.118005\n",
       "12 -6.379490e+05  -3665.230355\n",
       "13 -6.362660e+05  -2666.546246\n",
       "14 -6.350390e+05  -3662.310899"
      ]
     },
     "execution_count": 73,
     "metadata": {},
     "output_type": "execute_result"
    }
   ],
   "source": [
    "pca = PCA(n_components=2)\n",
    "fit = pca.fit(data)\n",
    "data = pd.DataFrame(fit.transform(data))\n",
    "\n",
    "data"
   ]
  },
  {
   "cell_type": "code",
   "execution_count": 74,
   "id": "9fc4ffb8",
   "metadata": {},
   "outputs": [
    {
     "data": {
      "image/png": "[encoded data removed]",
      "text/plain": [
       "<Figure size 1000x600 with 1 Axes>"
      ]
     },
     "metadata": {},
     "output_type": "display_data"
    }
   ],
   "source": [
    "import seaborn as sns\n",
    "import matplotlib.pyplot as plt\n",
    "\n",
    "plt.figure(figsize=(10, 6))\n",
    "plt.xlabel('Feature1')\n",
    "plt.ylabel('Feature2')\n",
    "plt.title('Scatter Plot of Features')\n",
    "\n",
    "sns.scatterplot(data=data, x=data[0], y=data[1], hue=target, palette='viridis')\n",
    "\n",
    "plt.legend(title='Class')\n",
    "\n",
    "plt.show()"
   ]
  }
 ],
 "metadata": {
  "kernelspec": {
   "display_name": "Python 3 (ipykernel)",
   "language": "python",
   "name": "python3"
  },
  "language_info": {
   "codemirror_mode": {
    "name": "ipython",
    "version": 3
   },
   "file_extension": ".py",
   "mimetype": "text/x-python",
   "name": "python",
   "nbconvert_exporter": "python",
   "pygments_lexer": "ipython3",
   "version": "3.11.4"
  }
 },
 "nbformat": 4,
 "nbformat_minor": 5
}
